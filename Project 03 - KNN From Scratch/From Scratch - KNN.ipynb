{
 "cells": [
  {
   "cell_type": "markdown",
   "metadata": {},
   "source": [
    "# From Scratch - KNN"
   ]
  },
  {
   "cell_type": "markdown",
   "metadata": {},
   "source": [
    "##### Setup\n",
    "Numpy is imported only to setup the list of random points and is provided as a numpy array and a list of points as both situations could be encountered. Scipy's spatial.distance.euclidean is imported only to demonstrate yet another way to do distance calculation beside vanilla and numpy. In terms of speed, numpy is about 2-3 times faster than scipy and 10 times faster than vanilla in my experimentation.\n",
    "##### One-Liners\n",
    "Because I like one-liners it was ABSOLUTELY necessary for me to make these.\n",
    "##### Not-One-Liners\n",
    "Because it's hard to remember the one liners when you are whiteboarding. These will step through the methods and is probably a bit more readable. :)\n",
    "##### Feedback & Thoughts\n",
    "Please let me know if you think of any improvements. Also, if someone wants to make a section that uses function definitions, we can add this to the notebook."
   ]
  },
  {
   "cell_type": "markdown",
   "metadata": {},
   "source": [
    "### Imports and Problem Setup"
   ]
  },
  {
   "cell_type": "code",
   "execution_count": 74,
   "metadata": {
    "ExecuteTime": {
     "end_time": "2019-01-03T23:31:50.018093Z",
     "start_time": "2019-01-03T23:31:50.013410Z"
    }
   },
   "outputs": [],
   "source": [
    "# import numpy to initialize random points and new point\n",
    "# import euclidean from scipy for scipy method\n",
    "import numpy as np\n",
    "from scipy.spatial.distance import euclidean\n",
    "# how many neighbors\n",
    "kn = 3\n",
    "# how many points in the list of points to check\n",
    "npts = 100\n",
    "# how many dimensions for the points 2-d, 3-d, 10-d, 100-d?\n",
    "dims = 10\n",
    "# create list of random points (prefix 'np' is if you are going the numpy route)\n",
    "np_pts = [np.random.randint(1,100,dims) for i in range(npts)]\n",
    "pts = [list(pt) for pt in np_pts]\n",
    "# create a new point to do knn on\n",
    "np_newpt = np.random.randint(1,100,dims)\n",
    "newpt = list(np_newpt)"
   ]
  },
  {
   "cell_type": "markdown",
   "metadata": {},
   "source": [
    "### One-Liners"
   ]
  },
  {
   "cell_type": "markdown",
   "metadata": {},
   "source": [
    "##### Vanilla Python"
   ]
  },
  {
   "cell_type": "code",
   "execution_count": 75,
   "metadata": {
    "ExecuteTime": {
     "end_time": "2019-01-03T23:31:51.514252Z",
     "start_time": "2019-01-03T23:31:51.508710Z"
    }
   },
   "outputs": [
    {
     "data": {
      "text/plain": [
       "[[72.09715667070374, [24, 62, 44, 52, 42, 33, 14, 78, 59, 28]],\n",
       " [77.95511529078769, [9, 41, 70, 55, 53, 65, 42, 87, 45, 60]],\n",
       " [84.2852300228219, [37, 96, 39, 88, 69, 13, 26, 79, 89, 26]]]"
      ]
     },
     "execution_count": 75,
     "metadata": {},
     "output_type": "execute_result"
    }
   ],
   "source": [
    "sorted([[sum([(i-j)**2 for i, j in zip(newpt,pt)])**0.5, pt] for pt in pts])[:kn]"
   ]
  },
  {
   "cell_type": "markdown",
   "metadata": {},
   "source": [
    "##### Using Numpy"
   ]
  },
  {
   "cell_type": "code",
   "execution_count": 76,
   "metadata": {
    "ExecuteTime": {
     "end_time": "2019-01-03T23:31:52.315250Z",
     "start_time": "2019-01-03T23:31:52.308715Z"
    },
    "scrolled": true
   },
   "outputs": [
    {
     "data": {
      "text/plain": [
       "[[72.09715667070374, array([24, 62, 44, 52, 42, 33, 14, 78, 59, 28])],\n",
       " [77.95511529078769, array([ 9, 41, 70, 55, 53, 65, 42, 87, 45, 60])],\n",
       " [84.2852300228219, array([37, 96, 39, 88, 69, 13, 26, 79, 89, 26])]]"
      ]
     },
     "execution_count": 76,
     "metadata": {},
     "output_type": "execute_result"
    }
   ],
   "source": [
    "sorted([[np.linalg.norm(np_newpt-pt), pt] for pt in np_pts])[:kn]"
   ]
  },
  {
   "cell_type": "markdown",
   "metadata": {},
   "source": [
    "##### Using Scipy"
   ]
  },
  {
   "cell_type": "code",
   "execution_count": 77,
   "metadata": {
    "ExecuteTime": {
     "end_time": "2019-01-03T23:31:53.052174Z",
     "start_time": "2019-01-03T23:31:53.044658Z"
    }
   },
   "outputs": [
    {
     "data": {
      "text/plain": [
       "[[72.09715667070374, [24, 62, 44, 52, 42, 33, 14, 78, 59, 28]],\n",
       " [77.95511529078769, [9, 41, 70, 55, 53, 65, 42, 87, 45, 60]],\n",
       " [84.2852300228219, [37, 96, 39, 88, 69, 13, 26, 79, 89, 26]]]"
      ]
     },
     "execution_count": 77,
     "metadata": {},
     "output_type": "execute_result"
    }
   ],
   "source": [
    "sorted([[euclidean(newpt,pt), pt] for pt in pts])[:kn]"
   ]
  },
  {
   "cell_type": "markdown",
   "metadata": {},
   "source": [
    "### Not One-Liners"
   ]
  },
  {
   "cell_type": "markdown",
   "metadata": {},
   "source": [
    "##### Vanilla Python"
   ]
  },
  {
   "cell_type": "code",
   "execution_count": 78,
   "metadata": {
    "ExecuteTime": {
     "end_time": "2019-01-03T23:31:54.139426Z",
     "start_time": "2019-01-03T23:31:54.133483Z"
    }
   },
   "outputs": [
    {
     "data": {
      "text/plain": [
       "[[72.09715667070374, [24, 62, 44, 52, 42, 33, 14, 78, 59, 28]],\n",
       " [77.95511529078769, [9, 41, 70, 55, 53, 65, 42, 87, 45, 60]],\n",
       " [84.2852300228219, [37, 96, 39, 88, 69, 13, 26, 79, 89, 26]]]"
      ]
     },
     "execution_count": 78,
     "metadata": {},
     "output_type": "execute_result"
    }
   ],
   "source": [
    "distances = []\n",
    "for pt in pts:\n",
    "    sums_of_squares = 0\n",
    "    for i,j in zip(newpt,pt):\n",
    "        sums_of_squares += (i-j)**2\n",
    "    dist = sums_of_squares**0.5\n",
    "    distances.append([dist, pt])\n",
    "sorted(distances)[:kn]\n",
    "    "
   ]
  },
  {
   "cell_type": "markdown",
   "metadata": {},
   "source": [
    "##### Using Numpy"
   ]
  },
  {
   "cell_type": "code",
   "execution_count": 79,
   "metadata": {
    "ExecuteTime": {
     "end_time": "2019-01-03T23:31:54.903428Z",
     "start_time": "2019-01-03T23:31:54.896500Z"
    }
   },
   "outputs": [
    {
     "data": {
      "text/plain": [
       "[[72.09715667070374, [24, 62, 44, 52, 42, 33, 14, 78, 59, 28]],\n",
       " [77.95511529078769, [9, 41, 70, 55, 53, 65, 42, 87, 45, 60]],\n",
       " [84.2852300228219, [37, 96, 39, 88, 69, 13, 26, 79, 89, 26]]]"
      ]
     },
     "execution_count": 79,
     "metadata": {},
     "output_type": "execute_result"
    }
   ],
   "source": [
    "distances = []\n",
    "for pt in pts:\n",
    "    sums_of_squares = 0\n",
    "    dist = np.linalg.norm(np_newpt-pt)\n",
    "    distances.append([dist, pt])\n",
    "sorted(distances)[:kn]"
   ]
  },
  {
   "cell_type": "markdown",
   "metadata": {},
   "source": [
    "##### Using Scipy"
   ]
  },
  {
   "cell_type": "code",
   "execution_count": 80,
   "metadata": {
    "ExecuteTime": {
     "end_time": "2019-01-03T23:31:55.596560Z",
     "start_time": "2019-01-03T23:31:55.588818Z"
    }
   },
   "outputs": [
    {
     "data": {
      "text/plain": [
       "[[72.09715667070374, [24, 62, 44, 52, 42, 33, 14, 78, 59, 28]],\n",
       " [77.95511529078769, [9, 41, 70, 55, 53, 65, 42, 87, 45, 60]],\n",
       " [84.2852300228219, [37, 96, 39, 88, 69, 13, 26, 79, 89, 26]]]"
      ]
     },
     "execution_count": 80,
     "metadata": {},
     "output_type": "execute_result"
    }
   ],
   "source": [
    "distances = []\n",
    "for pt in pts:\n",
    "    sums_of_squares = 0\n",
    "    dist = euclidean(newpt,pt)\n",
    "    distances.append([dist, pt])\n",
    "sorted(distances)[:kn]"
   ]
  }
 ],
 "metadata": {
  "kernelspec": {
   "display_name": "Python 3",
   "language": "python",
   "name": "python3"
  },
  "language_info": {
   "codemirror_mode": {
    "name": "ipython",
    "version": 3
   },
   "file_extension": ".py",
   "mimetype": "text/x-python",
   "name": "python",
   "nbconvert_exporter": "python",
   "pygments_lexer": "ipython3",
   "version": "3.6.5"
  },
  "varInspector": {
   "cols": {
    "lenName": 16,
    "lenType": 16,
    "lenVar": 40
   },
   "kernels_config": {
    "python": {
     "delete_cmd_postfix": "",
     "delete_cmd_prefix": "del ",
     "library": "var_list.py",
     "varRefreshCmd": "print(var_dic_list())"
    },
    "r": {
     "delete_cmd_postfix": ") ",
     "delete_cmd_prefix": "rm(",
     "library": "var_list.r",
     "varRefreshCmd": "cat(var_dic_list()) "
    }
   },
   "types_to_exclude": [
    "module",
    "function",
    "builtin_function_or_method",
    "instance",
    "_Feature"
   ],
   "window_display": false
  }
 },
 "nbformat": 4,
 "nbformat_minor": 2
}
