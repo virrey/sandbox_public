{
 "cells": [
  {
   "cell_type": "markdown",
   "metadata": {},
   "source": [
    "Default Text"
   ]
  },
  {
   "cell_type": "code",
   "execution_count": 1,
   "metadata": {},
   "outputs": [],
   "source": [
    "from ariScrape import Scraper\n",
    "from urllib import robotparser "
   ]
  },
  {
   "cell_type": "code",
   "execution_count": 2,
   "metadata": {},
   "outputs": [],
   "source": [
    "def robot_check(url_parts):\n",
    "    url = ''.join([str(p) for p in url_parts])\n",
    "    rp = robotparser.RobotFileParser()\n",
    "    rp.set_url(url)\n",
    "    rp.read()\n",
    "    if rp.can_fetch(\"*\", url):\n",
    "        print(\"Robots.txt: User Allowed\")\n",
    "        return True\n",
    "    else:\n",
    "        print(\"Robots.txt: User Disallowed. Please abort.\")\n",
    "        return False"
   ]
  },
  {
   "cell_type": "markdown",
   "metadata": {},
   "source": [
    "Default Text"
   ]
  },
  {
   "cell_type": "code",
   "execution_count": 3,
   "metadata": {},
   "outputs": [
    {
     "name": "stdout",
     "output_type": "stream",
     "text": [
      "Robots.txt: User Allowed\n"
     ]
    }
   ],
   "source": [
    "# test ticker symbol @ nasdaq.com\n",
    "test_ticker = \"INTC\"\n",
    "url_prefix = \"https://www.nasdaq.com/symbol/\"\n",
    "url_suffix = \"/financials\"\n",
    "url_parts = [url_prefix,test_ticker,url_suffix]\n",
    "robot_check(url_parts)"
   ]
  },
  {
   "cell_type": "markdown",
   "metadata": {},
   "source": [
    "Default Text"
   ]
  },
  {
   "cell_type": "code",
   "execution_count": null,
   "metadata": {},
   "outputs": [],
   "source": [
    "# xpath of @top left of table @url\n",
    "# >> //*[@id=\"financials-iframe-wrap\"]/div[1]/table/tbody/tr[1]/td[2]\n",
    "# xpath of @bottom right of table @url\n",
    "# >> //*[@id=\"financials-iframe-wrap\"]/div[1]/table/tbody/tr[19]/td[5]\n",
    "# these are the string parts of the xpath that\n",
    "# will not change while we iterate\n",
    "xpath_part1 = '//*[@id=\"financials-iframe-wrap\"]/div[1]/table/tbody/tr['\n",
    "xpath_part2 = ']/td['\n",
    "xpath_part3 = ']'"
   ]
  },
  {
   "cell_type": "markdown",
   "metadata": {},
   "source": [
    "Default Text"
   ]
  },
  {
   "cell_type": "code",
   "execution_count": null,
   "metadata": {},
   "outputs": [],
   "source": [
    "# init the column and row keys for the example table\n",
    "xpath_column_key = [i for i in range(2,6,1)] # create column index 2-5\n",
    "xpath_row_key = [i for i in range(1,20,1)] # create row index 1-19\n",
    "\n",
    "# make an array of xpath_parts that we're going to iterate over\n",
    "xpath_parts = [[xpath_part1,r,xpath_part2,c,xpath_part3] for c in xpath_column_key for r in xpath_row_key]"
   ]
  },
  {
   "cell_type": "code",
   "execution_count": null,
   "metadata": {},
   "outputs": [],
   "source": [
    "# create an ariScrape object\n",
    "scrapeObj = Scraper()\n",
    "scrapeObj.verbose = False\n",
    "scrapeObj.getChromeDriverPath()\n",
    "scrapeObj.getChromeDriver()\n",
    "scrapeObj.setURLFromParts(url_parts)\n",
    "scrapeObj.LoadPage()"
   ]
  },
  {
   "cell_type": "markdown",
   "metadata": {},
   "source": [
    "Default Text"
   ]
  },
  {
   "cell_type": "code",
   "execution_count": null,
   "metadata": {},
   "outputs": [],
   "source": [
    "# set this to True if you want to see the extracted\n",
    "# values -- useful when obj.verbose is False\n",
    "val_verbose = True\n",
    "for xp in xpath_parts:\n",
    "    scrapeObj.setXPathFromParts(xp)\n",
    "    scrapeObj.ExtractFloatAtXPath()\n",
    "    if val_verbose:\n",
    "        print(scrapeObj.scrapped_item)\n",
    "scrapeObj.driver.close()"
   ]
  }
 ],
 "metadata": {
  "kernelspec": {
   "display_name": "Python 3",
   "language": "python",
   "name": "python3"
  },
  "language_info": {
   "codemirror_mode": {
    "name": "ipython",
    "version": 3
   },
   "file_extension": ".py",
   "mimetype": "text/x-python",
   "name": "python",
   "nbconvert_exporter": "python",
   "pygments_lexer": "ipython3",
   "version": "3.6.5"
  }
 },
 "nbformat": 4,
 "nbformat_minor": 2
}
